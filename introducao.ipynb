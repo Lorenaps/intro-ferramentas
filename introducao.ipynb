{
  "nbformat": 4,
  "nbformat_minor": 0,
  "metadata": {
    "kernelspec": {
      "display_name": "Python 3",
      "language": "python",
      "name": "python3"
    },
    "language_info": {
      "codemirror_mode": {
        "name": "ipython",
        "version": 3
      },
      "file_extension": ".py",
      "mimetype": "text/x-python",
      "name": "python",
      "nbconvert_exporter": "python",
      "pygments_lexer": "ipython3",
      "version": "3.6.10"
    },
    "colab": {
      "name": "Cópia de introducao.ipynb",
      "provenance": [],
      "include_colab_link": true
    }
  },
  "cells": [
    {
      "cell_type": "markdown",
      "metadata": {
        "id": "view-in-github",
        "colab_type": "text"
      },
      "source": [
        "<a href=\"https://colab.research.google.com/github/Lorenaps/intro-ferramentas/blob/master/introducao.ipynb\" target=\"_parent\"><img src=\"https://colab.research.google.com/assets/colab-badge.svg\" alt=\"Open In Colab\"/></a>"
      ]
    },
    {
      "cell_type": "markdown",
      "metadata": {
        "id": "z5u-Hbev--tn",
        "colab_type": "text"
      },
      "source": [
        "<img src=\"https://github.com/soterolab/intro-ferramentas/blob/master/imagens/cabe%C3%A7alho.png?raw=1\">\n"
      ]
    },
    {
      "cell_type": "markdown",
      "metadata": {
        "id": "4S_5KUog--tz",
        "colab_type": "text"
      },
      "source": [
        "## Introdução às ferramentas\n",
        "\n",
        "- **[Colab Reserach Google](https://colab.research.google.com/)** — É uma ferramenta da Google que permite escrever e executar código Python daí mesmo do seu navegador, sem precisar instalar nada.\n",
        "\n",
        "\n",
        "- **[Python](https://python.org.br/)** — É uma linguagem de programação que tem entre seus princípios a legibilidade e permite fazer uma série de tarefas de forma bem simples."
      ]
    },
    {
      "cell_type": "markdown",
      "metadata": {
        "id": "m0ODSpY_--uB",
        "colab_type": "text"
      },
      "source": [
        "![Google colab](https://github.com/soterolab/intro-ferramentas/blob/master/imagens/1.png?raw=1)\n"
      ]
    },
    {
      "cell_type": "markdown",
      "metadata": {
        "id": "d-wgHymH--uE",
        "colab_type": "text"
      },
      "source": [
        "### Definindo uma lista"
      ]
    },
    {
      "cell_type": "code",
      "metadata": {
        "id": "ATksbptd--uH",
        "colab_type": "code",
        "colab": {}
      },
      "source": [
        "lista = [1, 2, 3, 4, 5]"
      ],
      "execution_count": null,
      "outputs": []
    },
    {
      "cell_type": "markdown",
      "metadata": {
        "id": "XWeWHxiW--uz",
        "colab_type": "text"
      },
      "source": [
        "### Imprimindo a lista"
      ]
    },
    {
      "cell_type": "code",
      "metadata": {
        "id": "0S1XNm-s--u_",
        "colab_type": "code",
        "colab": {},
        "outputId": "3bbb916f-cc0c-446c-87e7-93ea8c7b4178"
      },
      "source": [
        "print(lista)"
      ],
      "execution_count": null,
      "outputs": [
        {
          "output_type": "stream",
          "text": [
            "[1, 2, 3, 4, 5]\n"
          ],
          "name": "stdout"
        }
      ]
    },
    {
      "cell_type": "markdown",
      "metadata": {
        "id": "e7wx7KK0--vl",
        "colab_type": "text"
      },
      "source": [
        "### Imprimindo os itens da lista ao quadrado"
      ]
    },
    {
      "cell_type": "code",
      "metadata": {
        "id": "yhobeUao--vo",
        "colab_type": "code",
        "colab": {},
        "outputId": "c417a079-e5e1-4b96-f069-4441cd37bed8"
      },
      "source": [
        "for item in lista:\n",
        "    quadrado = item * item\n",
        "    print(quadrado)"
      ],
      "execution_count": null,
      "outputs": [
        {
          "output_type": "stream",
          "text": [
            "1\n",
            "4\n",
            "9\n",
            "16\n",
            "25\n"
          ],
          "name": "stdout"
        }
      ]
    },
    {
      "cell_type": "markdown",
      "metadata": {
        "id": "49NNFxsV--wD",
        "colab_type": "text"
      },
      "source": [
        "### Imprimindo os itens da lista ao quadrado diretamente na função `print()`"
      ]
    },
    {
      "cell_type": "code",
      "metadata": {
        "id": "cHBdqy0Z--wG",
        "colab_type": "code",
        "colab": {},
        "outputId": "4152db0c-86ad-4677-cb47-2faa2b3ded23"
      },
      "source": [
        "for item in lista:\n",
        "    print(item*item)"
      ],
      "execution_count": null,
      "outputs": [
        {
          "output_type": "stream",
          "text": [
            "1\n",
            "4\n",
            "9\n",
            "16\n",
            "25\n"
          ],
          "name": "stdout"
        }
      ]
    },
    {
      "cell_type": "markdown",
      "metadata": {
        "id": "bjcUxe_l--wh",
        "colab_type": "text"
      },
      "source": [
        "### Somando os itens da lista"
      ]
    },
    {
      "cell_type": "code",
      "metadata": {
        "id": "XsL9cJC4--wo",
        "colab_type": "code",
        "colab": {},
        "outputId": "e9d662e4-5b2c-4361-ec64-563baf89d8b9"
      },
      "source": [
        "soma = 0\n",
        "\n",
        "for item in lista:\n",
        "    soma = soma + item \n",
        "\n",
        "print(soma)"
      ],
      "execution_count": null,
      "outputs": [
        {
          "output_type": "stream",
          "text": [
            "15\n"
          ],
          "name": "stdout"
        }
      ]
    },
    {
      "cell_type": "markdown",
      "metadata": {
        "id": "j7rw9B1d--xF",
        "colab_type": "text"
      },
      "source": [
        "![Jupyter Notebook](https://github.com/soterolab/intro-ferramentas/blob/master/imagens/2.png?raw=1)\n"
      ]
    },
    {
      "cell_type": "markdown",
      "metadata": {
        "id": "fwZWdCqI--xH",
        "colab_type": "text"
      },
      "source": [
        "- **Notebook ou [Jupyter Notebook](https://jupyter.org/)**: Ferramenta que permite a visualização de códigos, imagens, gifs, texto e equações. E tambem permite a execução do código, exibindo o resultado tudo no mesmo documento."
      ]
    },
    {
      "cell_type": "markdown",
      "metadata": {
        "id": "un196g12--xJ",
        "colab_type": "text"
      },
      "source": [
        "### Alguns exemplos sobre como escrever simbolos e fórmulas:\n",
        "- [Motivating Examples - Documentação do Jupyter Notebook](https://jupyter-notebook.readthedocs.io/en/stable/examples/Notebook/Typesetting%20Equations.html)\n",
        "- [Lista de symbolos e fórmulas - Archer Reilly](https://csrgxtu.github.io/2015/03/20/Writing-Mathematic-Fomulars-in-Markdown/)"
      ]
    },
    {
      "cell_type": "markdown",
      "metadata": {
        "id": "6nlSrK7T--xL",
        "colab_type": "text"
      },
      "source": [
        "$\\sqrt{k}$"
      ]
    },
    {
      "cell_type": "markdown",
      "metadata": {
        "id": "jvk4ZLRI--xO",
        "colab_type": "text"
      },
      "source": [
        "$\\sqrt[n]{k}$"
      ]
    },
    {
      "cell_type": "markdown",
      "metadata": {
        "id": "n326z0Kw--xP",
        "colab_type": "text"
      },
      "source": [
        "$a^{2}=b^{2}+c^{2}$"
      ]
    },
    {
      "cell_type": "markdown",
      "metadata": {
        "id": "RnkxzNBj--xR",
        "colab_type": "text"
      },
      "source": [
        "$\\int\\limits_a^b$"
      ]
    },
    {
      "cell_type": "markdown",
      "metadata": {
        "id": "sjw33JtV--xZ",
        "colab_type": "text"
      },
      "source": [
        "$\\displaystyle\\sum_{i=1}^{10} t_i$"
      ]
    },
    {
      "cell_type": "markdown",
      "metadata": {
        "id": "drFVqcgU--xh",
        "colab_type": "text"
      },
      "source": [
        "\\begin{equation*}\n",
        "1 +  \\frac{q^2}{(1-q)}+\\frac{q^6}{(1-q)(1-q^2)}+\\cdots =\n",
        "\\prod_{j=0}^{\\infty}\\frac{1}{(1-q^{5j+2})(1-q^{5j+3})},\n",
        "\\quad\\quad \\text{for } |q|<1.\n",
        "\\end{equation*}"
      ]
    },
    {
      "cell_type": "markdown",
      "metadata": {
        "id": "NC8H1hit--xo",
        "colab_type": "text"
      },
      "source": [
        "### Adicionando Gifs e Imagens"
      ]
    },
    {
      "cell_type": "markdown",
      "metadata": {
        "id": "54naL4-8--xp",
        "colab_type": "text"
      },
      "source": [
        "![Gif carnavrau!](https://media.giphy.com/media/LqZZp4y9ANZIcQzuXC/giphy.gif)"
      ]
    },
    {
      "cell_type": "markdown",
      "metadata": {
        "id": "-XQj2d2Y--xz",
        "colab_type": "text"
      },
      "source": [
        "![Markdown](https://github.com/soterolab/intro-ferramentas/blob/master/imagens/3.png?raw=1)"
      ]
    },
    {
      "cell_type": "markdown",
      "metadata": {
        "id": "mE1LWUvb--x4",
        "colab_type": "text"
      },
      "source": [
        "\n",
        "- **[Markdown](https://docs.pipz.com/central-de-ajuda/learning-center/guia-basico-de-markdown#open)** — É uma linguagem de marcação de texto que serve para facilitar a escrita de texto na web. É o que usamos para escrever os textos em um Jupyter Notebook.\n",
        "\n",
        "> **Esse é um exemplo de escrita usando a linguagem de marcação [HTML](https://developer.mozilla.org/pt-BR/docs/Web/HTML)** (Que é o que está por trás de todos os sites que acessamos).\n",
        "> Escrita:\n",
        "\n",
        ">```\n",
        "> <h1>Título</h1>\n",
        "> <h2>Título menor</h2>\n",
        "> <h3>Título menor ainda</h3> ```\n",
        "\n",
        "> Resultado:\n",
        "> <h1>Título</h1> \n",
        "> <h2>Título menor</h2> \n",
        "> <h3>Título menor ainda</h3>\n",
        "\n",
        "\n",
        "> **Esse é um exemplo usando Markdown.**\n",
        "\n",
        "> *Escrita:*\n",
        "> ``` \n",
        "> # Título\n",
        "> ## Título menor\n",
        "> ### Título menor ainda ```\n",
        "> *Resultado:*\n",
        "> # Título\n",
        "> ## Título menor\n",
        "> ### Título menor ainda"
      ]
    },
    {
      "cell_type": "markdown",
      "metadata": {
        "id": "ZpFzZFfc--yM",
        "colab_type": "text"
      },
      "source": [
        "### Listas \n",
        "\n",
        "- Item 1\n",
        "- Item 2\n",
        "- Item 3\n",
        "\n",
        "\n",
        "* Item 1\n",
        "* Item 2\n",
        "* Item 3"
      ]
    },
    {
      "cell_type": "markdown",
      "metadata": {
        "id": "IgeHH3oi--yP",
        "colab_type": "text"
      },
      "source": [
        "### Listas enumeradas\n",
        "\n",
        "1. Item\n",
        "2. Item\n",
        "3. Item \n",
        "1. Item\n",
        "2. Item\n",
        "3. Item "
      ]
    },
    {
      "cell_type": "markdown",
      "metadata": {
        "id": "Ou_fWWO5--yQ",
        "colab_type": "text"
      },
      "source": [
        "### Listas aninhadas \n",
        "\n",
        "- Item 1\n",
        "    - Item 2\n",
        "        - Item 3\n",
        "        \n",
        "        \n",
        "1. Item\n",
        "    1. Item\n",
        "        1. Item \n",
        "        2. Item "
      ]
    },
    {
      "cell_type": "markdown",
      "metadata": {
        "id": "Nb179iQb--yS",
        "colab_type": "text"
      },
      "source": [
        "### Links\n",
        "\n",
        "- [SoteroLab](https://github.com/soterolab/sobre)\n",
        "- [SoteroLab - Introdução a utilização do Google Colab com o Github](https://github.com/soterolab/intro-ferramentas)"
      ]
    },
    {
      "cell_type": "markdown",
      "metadata": {
        "id": "SZh-5tjI--yT",
        "colab_type": "text"
      },
      "source": [
        "![Github](https://github.com/soterolab/intro-ferramentas/blob/master/imagens/4.png?raw=1)\n"
      ]
    },
    {
      "cell_type": "markdown",
      "metadata": {
        "id": "rJkrsd5K--yV",
        "colab_type": "text"
      },
      "source": [
        "- **[Github](https://github.com)** — É uma ferramenta para publicar, compartilhar e versionar arquivos, como textos e códigos. O Github se utiliza do [Git](https://git-scm.com/book/pt-br/v2/Come%C3%A7ando-Sobre-Controle-de-Vers%C3%A3o) para permitir o versionamento de arquivos. É esse versionamento que permite que a gente dê \"ctrl+z\" nos projetos, sistemas e textos.\n",
        "\n",
        "### Saiba mais!\n",
        "\n",
        "- [Entenda as diferenças de Git, GitHub e GitLab | Charlotte Lorelei, Vanessa Tonini e\n",
        "Gabriel Ferreira canal Alura Cursos Online](https://www.youtube.com/watch?v=_i9DUJcn-mU)\n",
        "- [Como usar o Google COLAB para ANALISAR DADOS? | Handshake #08](https://youtu.be/_mIwsA2ddSc)\n",
        "- [1.3 Começando - O Básico do Git](https://git-scm.com/book/pt-pt/v2/Come%C3%A7ando-O-B%C3%A1sico-do-Git)\n",
        "- [Git: guia prático - Roger Dudler](https://rogerdudler.github.io/git-guide/index.pt_BR.html)\n",
        "- [Como usar Git e Github na prática: Guia para iniciantes | Mayk Brito](https://youtu.be/2alg7MQ6_sI?list=WL)"
      ]
    },
    {
      "cell_type": "markdown",
      "metadata": {
        "id": "prc2YerqAAM7",
        "colab_type": "text"
      },
      "source": [
        "![Rihi](https://media.giphy.com/media/xTiTnsQ4BAWNNKaODm/giphy.gif)"
      ]
    },
    {
      "cell_type": "code",
      "metadata": {
        "id": "RlWzRydHAC7o",
        "colab_type": "code",
        "colab": {}
      },
      "source": [
        ""
      ],
      "execution_count": null,
      "outputs": []
    }
  ]
}